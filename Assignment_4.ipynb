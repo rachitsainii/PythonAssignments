{
 "cells": [
  {
   "cell_type": "code",
   "execution_count": 1,
   "metadata": {},
   "outputs": [],
   "source": [
    "# Q1. Write a function that accepts two positional arguments (x and y) and returns x raised to power y."
   ]
  },
  {
   "cell_type": "code",
   "execution_count": 4,
   "metadata": {},
   "outputs": [
    {
     "data": {
      "text/plain": [
       "8"
      ]
     },
     "execution_count": 4,
     "metadata": {},
     "output_type": "execute_result"
    }
   ],
   "source": [
    "def power(x,y) :\n",
    "    return x**y\n",
    "pow(2,3)"
   ]
  },
  {
   "cell_type": "code",
   "execution_count": 5,
   "metadata": {},
   "outputs": [],
   "source": [
    "# Q2. Write a function which returns a bool, indicating if the input number is even or not."
   ]
  },
  {
   "cell_type": "code",
   "execution_count": 11,
   "metadata": {},
   "outputs": [
    {
     "data": {
      "text/plain": [
       "(False, 'No. entered is Odd')"
      ]
     },
     "execution_count": 11,
     "metadata": {},
     "output_type": "execute_result"
    }
   ],
   "source": [
    "def checker(x):\n",
    "    if x % 2 == 0:\n",
    "        return bool(1) , \"No. entered is Even\"\n",
    "        \n",
    "    else:\n",
    "        return bool(0) , \"No. entered is Odd\"\n",
    "        \n",
    "checker(2)\n",
    "checker(3)\n",
    "        "
   ]
  },
  {
   "cell_type": "code",
   "execution_count": 12,
   "metadata": {},
   "outputs": [],
   "source": [
    "# Q3. Write function which returns a bool, indicating if the input number is a prime or not."
   ]
  },
  {
   "cell_type": "code",
   "execution_count": 16,
   "metadata": {},
   "outputs": [
    {
     "data": {
      "text/plain": [
       "(True, 'Prime')"
      ]
     },
     "execution_count": 16,
     "metadata": {},
     "output_type": "execute_result"
    }
   ],
   "source": [
    "import math\n",
    "def prime(x):\n",
    "    f = 2\n",
    "    sqrt = math.sqrt(x)\n",
    "    while f < sqrt:\n",
    "        if x % f == 0:\n",
    "            return bool(0) , \"Not Prime\"\n",
    "        else :\n",
    "            return bool(1) , \"Prime\"\n",
    "prime(5)\n",
    "        \n",
    "    \n",
    "    "
   ]
  },
  {
   "cell_type": "code",
   "execution_count": 17,
   "metadata": {},
   "outputs": [],
   "source": [
    "# Q4. Write function which returns a bool, indicating if the input is a pallindrome or not. Example: ‘abba’ ==> True , ‘fkdjskj#"
   ]
  },
  {
   "cell_type": "code",
   "execution_count": 27,
   "metadata": {},
   "outputs": [
    {
     "name": "stdin",
     "output_type": "stream",
     "text": [
      " 1221\n"
     ]
    },
    {
     "data": {
      "text/plain": [
       "(True, 'palindrome')"
      ]
     },
     "execution_count": 27,
     "metadata": {},
     "output_type": "execute_result"
    }
   ],
   "source": [
    "def palin():\n",
    "    x = input()\n",
    "    list = \"\".join(x)\n",
    "    if list[::-1] == list :\n",
    "        return bool(1) , \"palindrome\"\n",
    "    else:\n",
    "        return bool(0), \"not palindrome\"\n",
    "palin()"
   ]
  },
  {
   "cell_type": "code",
   "execution_count": null,
   "metadata": {},
   "outputs": [],
   "source": [
    "# Q5. Write a program that takes input a string and find the number of words in the string."
   ]
  },
  {
   "cell_type": "code",
   "execution_count": 28,
   "metadata": {},
   "outputs": [
    {
     "name": "stdin",
     "output_type": "stream",
     "text": [
      " my name is rachit\n"
     ]
    },
    {
     "name": "stdout",
     "output_type": "stream",
     "text": [
      "No. of words in string are: 4\n"
     ]
    }
   ],
   "source": [
    "string = input()\n",
    "count = 1\n",
    "for i in string:\n",
    "    if i == \" \":\n",
    "        count += 1\n",
    "print(\"No. of words in string are:\", count)\n",
    "    "
   ]
  },
  {
   "cell_type": "code",
   "execution_count": 29,
   "metadata": {},
   "outputs": [],
   "source": [
    "# Q6. Write a program to find the largest of the three given numbers n,m,l. Example - input 4,9,2 →9."
   ]
  },
  {
   "cell_type": "code",
   "execution_count": 34,
   "metadata": {},
   "outputs": [
    {
     "name": "stdin",
     "output_type": "stream",
     "text": [
      "Enter a number: 565\n",
      "Enter a number: 8786\n",
      "Enter a number: 122345678\n"
     ]
    },
    {
     "name": "stdout",
     "output_type": "stream",
     "text": [
      "The largest number is: 122345678\n"
     ]
    }
   ],
   "source": [
    "l = []\n",
    "for i in range(3):\n",
    "    s = int(input(\"Enter a number:\"))\n",
    "    l.append(s)\n",
    "largest = l[0]\n",
    "for j in l :\n",
    "    if largest < l[i]:\n",
    "        largest = l[i]\n",
    "print(\"The largest number is:\",largest)\n"
   ]
  },
  {
   "cell_type": "code",
   "execution_count": 36,
   "metadata": {},
   "outputs": [],
   "source": [
    "# Q7. Write a program that reverses a number n (take n as input from user)."
   ]
  },
  {
   "cell_type": "code",
   "execution_count": 4,
   "metadata": {},
   "outputs": [
    {
     "name": "stdin",
     "output_type": "stream",
     "text": [
      "enter any number: 12345\n"
     ]
    },
    {
     "name": "stdout",
     "output_type": "stream",
     "text": [
      "The reverse of the given number is: 54321\n"
     ]
    }
   ],
   "source": [
    "num = int(input(\"enter any number:\"))\n",
    "rev_num = 0\n",
    "while num > 0:\n",
    "    rem = num % 10\n",
    "    rev_num = rev_num*10 +rem\n",
    "    num = num //10\n",
    "print(\"The reverse of the given number is:\",rev_num)\n",
    "    "
   ]
  },
  {
   "cell_type": "code",
   "execution_count": 5,
   "metadata": {},
   "outputs": [],
   "source": [
    "# Q8. Write a program to replace all the zeros in the number by 5. Example: input = 102920083, output ==> 152925583."
   ]
  },
  {
   "cell_type": "code",
   "execution_count": 1,
   "metadata": {},
   "outputs": [
    {
     "name": "stdin",
     "output_type": "stream",
     "text": [
      "Enter any number: 45000\n"
     ]
    },
    {
     "name": "stdout",
     "output_type": "stream",
     "text": [
      "45555\n"
     ]
    }
   ],
   "source": [
    "num = input(\"Enter any number:\")\n",
    "for i in num :\n",
    "    if i.isalpha() == True:\n",
    "        print(\"Enter a valid number !\")\n",
    "        break\n",
    "    else :\n",
    "        pass\n",
    "l = \"\".join(num)\n",
    "l1 = []\n",
    "for j in l:\n",
    "    if j == '0':\n",
    "        l1 = l.replace('0','5')\n",
    "print(l1)\n",
    "\n",
    "\n",
    "        "
   ]
  },
  {
   "cell_type": "code",
   "execution_count": null,
   "metadata": {},
   "outputs": [],
   "source": [
    "# Q9. Write a program to print a list in reverse order without creating a new list."
   ]
  },
  {
   "cell_type": "code",
   "execution_count": 5,
   "metadata": {},
   "outputs": [
    {
     "name": "stdin",
     "output_type": "stream",
     "text": [
      "Enter the length of the list: 3\n",
      " 12\n",
      " 3\n",
      " 4\n"
     ]
    },
    {
     "name": "stdout",
     "output_type": "stream",
     "text": [
      "The list you entered is : ['12', '3', '4']\n",
      "The reversed list is: ['4', '3', '12']\n"
     ]
    }
   ],
   "source": [
    "l = []\n",
    "length = int(input(\"Enter the length of the list:\"))\n",
    "for i in range(length):\n",
    "    s = input(\"Enter the list:\")\n",
    "    l.append(s)\n",
    "print(\"The list you entered is :\", l)\n",
    "print(\"The reversed list is:\",l[::-1])"
   ]
  },
  {
   "cell_type": "code",
   "execution_count": 6,
   "metadata": {},
   "outputs": [],
   "source": [
    "# Q10. Write a program that takes input n and searches the number from the list. print the index of the input number n."
   ]
  },
  {
   "cell_type": "code",
   "execution_count": 7,
   "metadata": {},
   "outputs": [
    {
     "name": "stdin",
     "output_type": "stream",
     "text": [
      "Enter the length of the list: 4\n",
      "Enter the list: 1\n",
      "Enter the list: 2\n",
      "Enter the list: 3\n",
      "Enter the list: 4\n"
     ]
    },
    {
     "name": "stdout",
     "output_type": "stream",
     "text": [
      "The list you entered is : ['1', '2', '3', '4']\n",
      "Enter the number you want to search for :\n"
     ]
    },
    {
     "name": "stdin",
     "output_type": "stream",
     "text": [
      " 2\n"
     ]
    },
    {
     "name": "stdout",
     "output_type": "stream",
     "text": [
      "Number found at index: 1\n"
     ]
    }
   ],
   "source": [
    "l = []\n",
    "length = int(input(\"Enter the length of the list:\"))\n",
    "for i in range(length):\n",
    "    s = input(\"Enter the list:\")\n",
    "    l.append(s)\n",
    "print(\"The list you entered is :\", l)\n",
    "print(\"Enter the number you want to search for :\")\n",
    "num = input()\n",
    "for j in l:\n",
    "    if j == num:\n",
    "        print(\"Number found at index:\",i-2)\n",
    "        continue\n",
    "    else :\n",
    "        pass\n",
    "        "
   ]
  },
  {
   "cell_type": "code",
   "execution_count": 4,
   "metadata": {},
   "outputs": [],
   "source": [
    "# Q11. Write a program that takes input n and another number k (input from user ) and insert it at a particular index k(input from user.)"
   ]
  },
  {
   "cell_type": "code",
   "execution_count": 6,
   "metadata": {},
   "outputs": [
    {
     "name": "stdin",
     "output_type": "stream",
     "text": [
      "Enter the number: 45\n",
      "Enter the index: 2\n"
     ]
    },
    {
     "name": "stdout",
     "output_type": "stream",
     "text": [
      "[1, 2, 45, 3]\n"
     ]
    }
   ],
   "source": [
    "l = [1,2,3]\n",
    "num = int(input(\"Enter the number:\"))\n",
    "ind = int(input(\"Enter the index:\"))\n",
    "l.insert(ind,num)\n",
    "print(l)"
   ]
  },
  {
   "cell_type": "code",
   "execution_count": null,
   "metadata": {},
   "outputs": [],
   "source": [
    "# Q12. Given the participants' score sheet for your University Sports Day, you are required to find the runner-up score.\n",
    "# You are given n scores. Store them in a list and find the score of the runner-up."
   ]
  },
  {
   "cell_type": "code",
   "execution_count": 1,
   "metadata": {},
   "outputs": [
    {
     "name": "stdin",
     "output_type": "stream",
     "text": [
      "Enter the number of scores: 4\n",
      "Enter the scores: 99\n",
      "Enter the scores: 54\n",
      "Enter the scores: 76\n",
      "Enter the scores: 34\n"
     ]
    },
    {
     "name": "stdout",
     "output_type": "stream",
     "text": [
      "[34, 54, 76, 99]\n",
      "The runner up is 76\n"
     ]
    }
   ],
   "source": [
    "l = []\n",
    "n = int(input(\"Enter the number of scores:\"))\n",
    "for i in range(0,n):\n",
    "    i = int(input(\"Enter the scores:\"))\n",
    "    l.append(i)\n",
    "    l.sort()\n",
    "print(l)\n",
    "print(\"The score of runner up is\",l[n-2])"
   ]
  },
  {
   "cell_type": "code",
   "execution_count": 1,
   "metadata": {},
   "outputs": [],
   "source": [
    "#Q13. Given a list of numbers containing pairs of numbers only one number does not form a pair. Find that number. Example: [1,1,2,2,4,5,4,7,7]  => 5."
   ]
  },
  {
   "cell_type": "code",
   "execution_count": 7,
   "metadata": {},
   "outputs": [
    {
     "name": "stdout",
     "output_type": "stream",
     "text": [
      "[5]\n"
     ]
    }
   ],
   "source": [
    "l = [1,1,2,2,4,5,4,7,7]\n",
    "s = []\n",
    "for i in l :\n",
    "    if i not in s :\n",
    "        s.append(i)\n",
    "    else :\n",
    "        s.remove(i)\n",
    "print(s)"
   ]
  },
  {
   "cell_type": "code",
   "execution_count": 2,
   "metadata": {},
   "outputs": [],
   "source": [
    "# Q14. Write a program that inputs a list of numbers and returns square of each of the element.\n"
   ]
  },
  {
   "cell_type": "code",
   "execution_count": 15,
   "metadata": {},
   "outputs": [
    {
     "name": "stdin",
     "output_type": "stream",
     "text": [
      "Enter the length of list: 4\n",
      "Enter the elements: 1\n",
      "Enter the elements: 2\n",
      "Enter the elements: 3\n",
      "Enter the elements: 4\n"
     ]
    },
    {
     "name": "stdout",
     "output_type": "stream",
     "text": [
      "The list you entered is: [1, 2, 3, 4]\n",
      "The square of each number in list is :\n",
      "1\n",
      "4\n",
      "9\n",
      "16\n"
     ]
    }
   ],
   "source": [
    "l = []\n",
    "length = int(input(\"Enter the length of list:\"))\n",
    "for i in range(0,length):\n",
    "    i = int(input(\"Enter the elements:\"))\n",
    "    l .append(i)\n",
    "print(\"The list you entered is:\",l)\n",
    "print(\"The square of each number in list is :\")\n",
    "for j in l:\n",
    "    sq= j**2\n",
    "    print(sq)"
   ]
  },
  {
   "cell_type": "code",
   "execution_count": 3,
   "metadata": {},
   "outputs": [],
   "source": [
    "#Q15. Write a program that takes input a list and finds the max and min numbers in the list.\n"
   ]
  },
  {
   "cell_type": "code",
   "execution_count": 12,
   "metadata": {},
   "outputs": [
    {
     "name": "stdin",
     "output_type": "stream",
     "text": [
      "Enter the length of list: 4\n",
      "Enter the elements: 34\n",
      "Enter the elements: 56\n",
      "Enter the elements: 32\n",
      "Enter the elements: 78\n"
     ]
    },
    {
     "name": "stdout",
     "output_type": "stream",
     "text": [
      "[34, 56, 32, 78]\n",
      "Max number: 78\n",
      "Min number: 32\n"
     ]
    }
   ],
   "source": [
    "l = []\n",
    "length = int(input(\"Enter the length of list:\"))\n",
    "for i in range(0,length):\n",
    "    s = int(input(\"Enter the elements:\"))\n",
    "    l.append(s)\n",
    "print(l)\n",
    "max = l[0]\n",
    "for j in l :\n",
    "    if j > l[0]:\n",
    "        max = j\n",
    "print(\"Max number:\",max)\n",
    "\n",
    "min = l[1]\n",
    "for k in l:\n",
    "    if k<l[1]:\n",
    "        min = k\n",
    "print(\"Min number:\",min)\n",
    "    "
   ]
  },
  {
   "cell_type": "code",
   "execution_count": 4,
   "metadata": {},
   "outputs": [],
   "source": [
    "# Q16. Write a program which returns a list where the values are square of numbers between 1 and 20 (both included). \n",
    "#. And prints all values except the first 5 elements in the list."
   ]
  },
  {
   "cell_type": "code",
   "execution_count": 7,
   "metadata": {},
   "outputs": [
    {
     "name": "stdout",
     "output_type": "stream",
     "text": [
      "[1, 4, 9, 16, 25, 36, 49, 64, 81, 100, 121, 144, 169, 196, 225, 256, 289, 324, 361, 400]\n",
      "[36, 49, 64, 81, 100, 121, 144, 169, 196, 225, 256, 289, 324, 361, 400]\n"
     ]
    }
   ],
   "source": [
    "l = []\n",
    "for i in range(1,21):\n",
    "    l.append(i**2)\n",
    "print(l)\n",
    "print(l[5:20:1])"
   ]
  },
  {
   "cell_type": "code",
   "execution_count": null,
   "metadata": {},
   "outputs": [],
   "source": []
  }
 ],
 "metadata": {
  "kernelspec": {
   "display_name": "Python 3",
   "language": "python",
   "name": "python3"
  },
  "language_info": {
   "codemirror_mode": {
    "name": "ipython",
    "version": 3
   },
   "file_extension": ".py",
   "mimetype": "text/x-python",
   "name": "python",
   "nbconvert_exporter": "python",
   "pygments_lexer": "ipython3",
   "version": "3.7.4"
  }
 },
 "nbformat": 4,
 "nbformat_minor": 4
}
