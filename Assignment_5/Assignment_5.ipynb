{
 "cells": [
  {
   "cell_type": "code",
   "execution_count": 1,
   "metadata": {},
   "outputs": [],
   "source": [
    "#Q1.Make a class named shape which has a method area,implement different shapes like circle,square with a method area.\n"
   ]
  },
  {
   "cell_type": "code",
   "execution_count": 13,
   "metadata": {},
   "outputs": [],
   "source": [
    "class shape :\n",
    "    \n",
    "    def area(self ,value):\n",
    "        if value == \"Circle\" :\n",
    "            print(\"Enter the radius of circle:\")\n",
    "            rad = int(input())\n",
    "            area_circle = (22/7)*(rad**2)\n",
    "            print(\"Area of circle is:\", area_circle , \"cm square\")\n",
    "            \n",
    "        elif value == \"Square\" :\n",
    "            side = int(input(\"Enter the length of side:\"))\n",
    "            area_square = side**2\n",
    "            print(\"Area of square is :\",area_square , \"cm square\")\n",
    "            \n",
    "        elif value == \"Rectangle\" :\n",
    "            print(\"Enter the length and breadth:\")\n",
    "            length = int(input())\n",
    "            breadth = int(input())\n",
    "            area_rect = length * breadth\n",
    "            print(\"Area of rectangle is :\" , area_rect , \"cm square\")\n",
    "            \n",
    "        else :\n",
    "            print(\"Wrong Shape entered !\")\n",
    "        "
   ]
  },
  {
   "cell_type": "code",
   "execution_count": 14,
   "metadata": {},
   "outputs": [],
   "source": [
    "shape1 = shape()"
   ]
  },
  {
   "cell_type": "code",
   "execution_count": 15,
   "metadata": {},
   "outputs": [
    {
     "name": "stdout",
     "output_type": "stream",
     "text": [
      "Enter the radius of circle:\n"
     ]
    },
    {
     "name": "stdin",
     "output_type": "stream",
     "text": [
      " 5\n"
     ]
    },
    {
     "name": "stdout",
     "output_type": "stream",
     "text": [
      "Area of circle is: 78.57142857142857 cm square\n"
     ]
    }
   ],
   "source": [
    "shape1.area(\"Circle\")"
   ]
  },
  {
   "cell_type": "code",
   "execution_count": 16,
   "metadata": {},
   "outputs": [
    {
     "name": "stdout",
     "output_type": "stream",
     "text": [
      "Enter the length and breadth:\n"
     ]
    },
    {
     "name": "stdin",
     "output_type": "stream",
     "text": [
      " 5\n",
      " 4\n"
     ]
    },
    {
     "name": "stdout",
     "output_type": "stream",
     "text": [
      "Area of rectangle is : 20 cm square\n"
     ]
    }
   ],
   "source": [
    "shape1.area(\"Rectangle\")"
   ]
  },
  {
   "cell_type": "code",
   "execution_count": 17,
   "metadata": {},
   "outputs": [
    {
     "name": "stdin",
     "output_type": "stream",
     "text": [
      "Enter the length of side: 5\n"
     ]
    },
    {
     "name": "stdout",
     "output_type": "stream",
     "text": [
      "Area of square is : 25 cm square\n"
     ]
    }
   ],
   "source": [
    "shape1.area(\"Square\")"
   ]
  },
  {
   "cell_type": "code",
   "execution_count": 18,
   "metadata": {},
   "outputs": [],
   "source": [
    " # Q2. Implement a class stack and support the methods pop, push and top."
   ]
  },
  {
   "cell_type": "code",
   "execution_count": 29,
   "metadata": {},
   "outputs": [],
   "source": [
    "class stack :\n",
    "        \n",
    "    def pop(self , l):\n",
    "        l.pop()\n",
    "        print(\"Stack after popping is:\", l)\n",
    "        \n",
    "    def push(self ,l ,element):\n",
    "        l.append(element)\n",
    "        print(\"Stack after pushing an element is:\" , l)\n",
    "    \n",
    "    def top(self , l):\n",
    "        for i in l:\n",
    "            pass\n",
    "        print(\"Topmost element of Stack is:\",i)\n",
    "        \n",
    "        \n",
    "        "
   ]
  },
  {
   "cell_type": "code",
   "execution_count": 30,
   "metadata": {},
   "outputs": [],
   "source": [
    "l = [1,2,3,4,5]\n",
    "test = stack()"
   ]
  },
  {
   "cell_type": "code",
   "execution_count": 31,
   "metadata": {},
   "outputs": [
    {
     "name": "stdout",
     "output_type": "stream",
     "text": [
      "Stack after popping is: [1, 2, 3, 4]\n"
     ]
    }
   ],
   "source": [
    "test.pop(l)"
   ]
  },
  {
   "cell_type": "code",
   "execution_count": 32,
   "metadata": {},
   "outputs": [
    {
     "name": "stdout",
     "output_type": "stream",
     "text": [
      "Stack after pushing an element is: [1, 2, 3, 4, 5]\n"
     ]
    }
   ],
   "source": [
    "test.push(l , 5)"
   ]
  },
  {
   "cell_type": "code",
   "execution_count": 33,
   "metadata": {},
   "outputs": [
    {
     "name": "stdout",
     "output_type": "stream",
     "text": [
      "Topmost element of Stack is: 5\n"
     ]
    }
   ],
   "source": [
    "test.top(l)"
   ]
  },
  {
   "cell_type": "code",
   "execution_count": 34,
   "metadata": {},
   "outputs": [],
   "source": [
    "# Q3. Write a program to generate a random string of input length n."
   ]
  },
  {
   "cell_type": "code",
   "execution_count": 37,
   "metadata": {},
   "outputs": [
    {
     "name": "stdin",
     "output_type": "stream",
     "text": [
      "Enter the length of string: 10\n"
     ]
    },
    {
     "name": "stdout",
     "output_type": "stream",
     "text": [
      "A randomly generated string of given length is : leworzdwjt\n"
     ]
    }
   ],
   "source": [
    "import random\n",
    "length = int(input(\"Enter the length of string:\"))\n",
    "l = ['a','b','c','d','e','f','g','h','i','j','k','l','m','n','o','p','q','r','s','t','u','v','w','x','y','z']\n",
    "string = \"\"\n",
    "for i in range(length):\n",
    "    string = string+random.choice(l)\n",
    "print(\"A randomly generated string of given length is :\" , string)\n",
    "\n"
   ]
  },
  {
   "cell_type": "code",
   "execution_count": 1,
   "metadata": {},
   "outputs": [],
   "source": [
    "# 4. Write a program to make a dictionary where the keys are numbers between 1 and 10 (both included) and \n",
    "# the values are square of keys. Example: {1:1 , 2:4 , 3:9}"
   ]
  },
  {
   "cell_type": "code",
   "execution_count": 11,
   "metadata": {},
   "outputs": [
    {
     "name": "stdout",
     "output_type": "stream",
     "text": [
      "{1: 1, 2: 4, 3: 9, 4: 16, 5: 25, 6: 36, 7: 49, 8: 64, 9: 81, 10: 100}\n"
     ]
    }
   ],
   "source": [
    "dict = {}\n",
    "dict1 = {}\n",
    "for i in range(1,11):\n",
    "    keys = i\n",
    "    value = i **2\n",
    "    dict = {keys : value}\n",
    "    dict1.update(dict)\n",
    "print(dict1)\n",
    "\n",
    "\n",
    "\n"
   ]
  },
  {
   "cell_type": "code",
   "execution_count": 12,
   "metadata": {},
   "outputs": [],
   "source": [
    "# Q5. Write a program which can filter even numbers in a list."
   ]
  },
  {
   "cell_type": "code",
   "execution_count": 1,
   "metadata": {},
   "outputs": [
    {
     "name": "stdin",
     "output_type": "stream",
     "text": [
      "Enter the length of list: 5\n"
     ]
    },
    {
     "name": "stdout",
     "output_type": "stream",
     "text": [
      "Enter the elements of list:\n"
     ]
    },
    {
     "name": "stdin",
     "output_type": "stream",
     "text": [
      " 1\n",
      " 2\n",
      " 3\n",
      " 4\n",
      " 5\n"
     ]
    },
    {
     "name": "stdout",
     "output_type": "stream",
     "text": [
      "The list you entered is: [1, 2, 3, 4, 5]\n",
      "The list after filtering even elements is: [1, 3, 5]\n"
     ]
    }
   ],
   "source": [
    "n = int(input(\"Enter the length of list:\"))\n",
    "l = []\n",
    "print(\"Enter the elements of list:\")\n",
    "for i in range(n):\n",
    "    s = int(input())\n",
    "    l.append(s)\n",
    "print(\"The list you entered is:\",l)\n",
    "\n",
    "for j in l :\n",
    "    if j % 2 == 0 :\n",
    "        l.remove(j)\n",
    "print(\"The list after filtering even elements is:\" ,l)\n",
    "    \n",
    "    "
   ]
  },
  {
   "cell_type": "code",
   "execution_count": null,
   "metadata": {},
   "outputs": [],
   "source": [
    "# Q6. Write up a module of area of different 2d, 3d surfaces like circle, square, rectangle, cube, cuboid, cylinder, \n",
    "#     sphere. Make it commandline executable."
   ]
  },
  {
   "cell_type": "code",
   "execution_count": 8,
   "metadata": {},
   "outputs": [],
   "source": [
    "class Area :\n",
    "    def circle(self):\n",
    "        rad = int(input(\"Enter the radius:\"))\n",
    "        area = (22/7)*(rad**2)\n",
    "        print(\"Area is :\" , area)\n",
    "        \n",
    "        \n",
    "    def square(self):\n",
    "        side = int(input(\"Enter the length of a side:\"))\n",
    "        area = side**2\n",
    "        print(\"Area is :\" , area)\n",
    "        \n",
    "    def rect(self):\n",
    "        print(\"Enter length and breadth of rectangle:\")\n",
    "        le = int(input())\n",
    "        br = int(input())\n",
    "        area = le * br\n",
    "        print(\"Area is :\" , area)\n",
    "                   \n",
    "    def cube(self):\n",
    "        side = int(input(\"Enter length of a side:\"))\n",
    "        area = 6 * (side**2)\n",
    "        print(\"Area is :\" , area)\n",
    "                   \n",
    "    def cuboid(self):\n",
    "        print(\"Enter length , breadth and height :\")\n",
    "        le = int(input())\n",
    "        br= int(input())\n",
    "        he= int(input())\n",
    "        area = 2*(le*br + br*he + he*le)\n",
    "        print(\"Area is :\" , area)\n",
    "                   \n",
    "    def cylinder(self):\n",
    "        rad = int(input(\"Enter the radius:\"))\n",
    "        he = int(input(\"Enter the height:\"))\n",
    "        area = (22/7)*(rad**2)*(he)\n",
    "        print(\"Area is :\" , area)\n",
    "  \n",
    "              \n",
    "    "
   ]
  },
  {
   "cell_type": "code",
   "execution_count": 9,
   "metadata": {},
   "outputs": [],
   "source": [
    "shape = Area()"
   ]
  },
  {
   "cell_type": "code",
   "execution_count": 10,
   "metadata": {},
   "outputs": [
    {
     "name": "stdin",
     "output_type": "stream",
     "text": [
      "Enter the radius: 5\n"
     ]
    },
    {
     "name": "stdout",
     "output_type": "stream",
     "text": [
      "Area is : 78.57142857142857\n"
     ]
    }
   ],
   "source": [
    "shape.circle()"
   ]
  },
  {
   "cell_type": "code",
   "execution_count": 2,
   "metadata": {},
   "outputs": [],
   "source": [
    "# Q7. Write a program that takes text file as an input and count the number of words in the file."
   ]
  },
  {
   "cell_type": "code",
   "execution_count": 3,
   "metadata": {},
   "outputs": [],
   "source": [
    "file = open(\"question7.txt\" , \"w\")"
   ]
  },
  {
   "cell_type": "code",
   "execution_count": 4,
   "metadata": {},
   "outputs": [],
   "source": [
    "content = \"This is a text file for question 7. \"*10"
   ]
  },
  {
   "cell_type": "code",
   "execution_count": 5,
   "metadata": {},
   "outputs": [
    {
     "data": {
      "text/plain": [
       "360"
      ]
     },
     "execution_count": 5,
     "metadata": {},
     "output_type": "execute_result"
    }
   ],
   "source": [
    "file.write(content)"
   ]
  },
  {
   "cell_type": "code",
   "execution_count": 6,
   "metadata": {},
   "outputs": [],
   "source": [
    "file.flush()"
   ]
  },
  {
   "cell_type": "code",
   "execution_count": 7,
   "metadata": {},
   "outputs": [],
   "source": [
    "file.close()"
   ]
  },
  {
   "cell_type": "code",
   "execution_count": 20,
   "metadata": {},
   "outputs": [
    {
     "name": "stdout",
     "output_type": "stream",
     "text": [
      "The number of words in the file are: 80\n"
     ]
    }
   ],
   "source": [
    "file = open(\"question7.txt\" , \"r\")\n",
    "\n",
    "num_words = 0\n",
    "for line in file:\n",
    "    words = line.split()\n",
    "    num_words += len(words)\n",
    "print(\"The number of words in the file are:\",num_words)"
   ]
  },
  {
   "cell_type": "code",
   "execution_count": null,
   "metadata": {},
   "outputs": [],
   "source": [
    "# Q8.Write a program to make a class for the real world entitity car.Assume some data attributes and methods \n",
    "#   to model a car."
   ]
  },
  {
   "cell_type": "code",
   "execution_count": 30,
   "metadata": {},
   "outputs": [],
   "source": [
    "class Car :\n",
    "    def __init__(self , brand , model , color , passkey , ):\n",
    "        self.b = brand\n",
    "        self.m = model\n",
    "        self.c = color\n",
    "        self.p = passkey\n",
    "        self.modify = []\n",
    "        \n",
    "    def info(self , engine , price):\n",
    "        print(\"The brand is {} and the model is {}. The engine specs are :{} and the price is {} and the modifications are: {}\".format(self.b,self.m,engine,price,self.modify))\n",
    "        \n",
    "    def password(self ):\n",
    "        print(\"To start the car enter the passkey:\")\n",
    "        key = input()\n",
    "        if key == self.p :\n",
    "            self.__enginestate()\n",
    "        else:\n",
    "            print(\"Wrong Passkey ! Please try again\")\n",
    "            \n",
    "    def __enginestate(self):\n",
    "        print(\"Engine is ON\")\n",
    "        \n",
    "    def mod(self):\n",
    "        print(\"Enter password to continue further\" )\n",
    "        p = input()\n",
    "        if p == self.p:\n",
    "              print(\"\"\"Choose your modification:\n",
    "                        1. Engine Remapping\n",
    "                        2. Spoiler \n",
    "                        3. Alloys\n",
    "                        4. Exhaust\"\"\")\n",
    "              choice = input()\n",
    "        else :\n",
    "              print(\"Enter correct password to continue.\")\n",
    "        \n",
    "        if choice == \"Engine Remapping\" or choice == \"Spoiler\" or choice == \"Alloys\" or choice == \"Exhaust\":\n",
    "            print(\"Mod Applied\")\n",
    "            self.modify.append(choice)\n",
    "            \n",
    "        \n",
    "        else :\n",
    "              print(\"Enter correct choice\")\n",
    "              \n",
    "              \n",
    "              \n",
    "        \n",
    "              \n",
    "            \n",
    "            \n",
    "            \n",
    "    \n",
    "        "
   ]
  },
  {
   "cell_type": "code",
   "execution_count": 31,
   "metadata": {},
   "outputs": [],
   "source": [
    "test1 = Car(\"Bugatti\", \"Chiron\" , \"Blue\" , \"1234\")"
   ]
  },
  {
   "cell_type": "code",
   "execution_count": 34,
   "metadata": {},
   "outputs": [
    {
     "name": "stdout",
     "output_type": "stream",
     "text": [
      "The brand is Bugatti and the model is Chiron. The engine specs are :twin turbo V12 and the price is Aukaat ke Bahar and the modifications are: ['Exhaust']\n"
     ]
    }
   ],
   "source": [
    "test1.info(\"twin turbo V12\", \"Aukaat ke Bahar\")"
   ]
  },
  {
   "cell_type": "code",
   "execution_count": 20,
   "metadata": {},
   "outputs": [
    {
     "name": "stdout",
     "output_type": "stream",
     "text": [
      "To start the car enter the passkey:\n"
     ]
    },
    {
     "name": "stdin",
     "output_type": "stream",
     "text": [
      " 1234\n"
     ]
    },
    {
     "name": "stdout",
     "output_type": "stream",
     "text": [
      "Engine is ON\n"
     ]
    }
   ],
   "source": [
    "test1.password()"
   ]
  },
  {
   "cell_type": "code",
   "execution_count": 33,
   "metadata": {},
   "outputs": [
    {
     "name": "stdout",
     "output_type": "stream",
     "text": [
      "Enter password to continue further\n"
     ]
    },
    {
     "name": "stdin",
     "output_type": "stream",
     "text": [
      " 1234\n"
     ]
    },
    {
     "name": "stdout",
     "output_type": "stream",
     "text": [
      "Choose your modification:\n",
      "                        1. Engine Remapping\n",
      "                        2. Spoiler \n",
      "                        3. Alloys\n",
      "                        4. Exhaust\n"
     ]
    },
    {
     "name": "stdin",
     "output_type": "stream",
     "text": [
      " Exhaust\n"
     ]
    },
    {
     "name": "stdout",
     "output_type": "stream",
     "text": [
      "Mod Applied\n"
     ]
    }
   ],
   "source": [
    "test1.mod()"
   ]
  },
  {
   "cell_type": "code",
   "execution_count": 15,
   "metadata": {},
   "outputs": [],
   "source": [
    "# Q9. Construct a class Student with attributes name, age, rollnumber and methods getters and setters for all \n",
    "#.    the attributes. Create a list of  10 students and then compute the average age of students in the batch.\n",
    "    "
   ]
  },
  {
   "cell_type": "code",
   "execution_count": 10,
   "metadata": {},
   "outputs": [],
   "source": [
    "\n",
    "class Student :\n",
    "    def __init__(self , rollno , name , age):\n",
    "        self.r = rollno\n",
    "        self.n = name\n",
    "        self.a = age\n",
    "    \n",
    "        \n",
    "    def get(self):\n",
    "        r = int(input(\"Enter a rollno:\"))\n",
    "        if r == self.r:\n",
    "            print(\"The information for the given Rollno. is - Name: {} , Age: {} \".format(self.n , self.a))\n",
    "        else :\n",
    "            print(\"Enter correct rollno !\")\n",
    "        \n",
    "    def setter(self):\n",
    "        r = int(input(\"Enter a rollno.:\"))\n",
    "        print(\"Choose information you want to change: - 1. Name 2.Age\")\n",
    "        choice = input()\n",
    "        if choice == \"Name\":\n",
    "            self.n = input(\"Enter a new name:\")\n",
    "        elif choice == \"Age\":\n",
    "            self.a = int(input(\"Enter the new age:\"))\n",
    "        else:\n",
    "            print(\"Enter correct choice.\")\n",
    "    def avg_age(self):\n",
    "        av_ag = 0\n",
    "        s = 0\n",
    "        for i in age_list:\n",
    "            s +=i\n",
    "            av_ag = s/2\n",
    "        print(\"Average age is :\" , av_ag)\n",
    "    \n",
    "    \n",
    "        "
   ]
  },
  {
   "cell_type": "code",
   "execution_count": 12,
   "metadata": {},
   "outputs": [],
   "source": [
    "obj = Student(1,\"Rachit\",19)"
   ]
  },
  {
   "cell_type": "code",
   "execution_count": 3,
   "metadata": {},
   "outputs": [
    {
     "name": "stdin",
     "output_type": "stream",
     "text": [
      "Enter a rollno: 1\n"
     ]
    },
    {
     "name": "stdout",
     "output_type": "stream",
     "text": [
      "The information for the given Rollno. is - Name: Rachit , Age: 19 \n"
     ]
    }
   ],
   "source": [
    "l.get()"
   ]
  },
  {
   "cell_type": "code",
   "execution_count": 4,
   "metadata": {},
   "outputs": [
    {
     "name": "stdin",
     "output_type": "stream",
     "text": [
      "Enter a rollno.: 1\n"
     ]
    },
    {
     "name": "stdout",
     "output_type": "stream",
     "text": [
      "Choose information you want to change: - 1. Name 2.Age\n"
     ]
    },
    {
     "name": "stdin",
     "output_type": "stream",
     "text": [
      " Name\n",
      "Enter a new name: Naman\n"
     ]
    }
   ],
   "source": [
    "l.setter()"
   ]
  },
  {
   "cell_type": "code",
   "execution_count": 5,
   "metadata": {},
   "outputs": [
    {
     "name": "stdin",
     "output_type": "stream",
     "text": [
      "Enter a rollno: 1\n"
     ]
    },
    {
     "name": "stdout",
     "output_type": "stream",
     "text": [
      "The information for the given Rollno. is - Name: Naman , Age: 19 \n"
     ]
    }
   ],
   "source": [
    "l.get()"
   ]
  },
  {
   "cell_type": "code",
   "execution_count": 7,
   "metadata": {},
   "outputs": [
    {
     "name": "stdin",
     "output_type": "stream",
     "text": [
      "Enter a roll no. 1\n",
      "Enter a name Rachit\n",
      "Enter a age: 19\n",
      "Enter a roll no. 2\n",
      "Enter a name Naman\n",
      "Enter a age: 16\n"
     ]
    },
    {
     "name": "stdout",
     "output_type": "stream",
     "text": [
      "[19, 16]\n"
     ]
    }
   ],
   "source": [
    "l = [\"s1\" , \"s2\" ] \n",
    "age_list = []\n",
    "for i in l:\n",
    "    roll = int(input(\"Enter a roll no.\"))\n",
    "    n = input(\"Enter a name\")\n",
    "    a = int(input(\"Enter a age:\"))\n",
    "    i = Student(roll , n , a)\n",
    "    age_list.append(a)\n",
    "print(age_list)\n",
    "    \n",
    "    \n",
    "    "
   ]
  },
  {
   "cell_type": "code",
   "execution_count": 13,
   "metadata": {},
   "outputs": [
    {
     "name": "stdout",
     "output_type": "stream",
     "text": [
      "Average age is : 17.5\n"
     ]
    }
   ],
   "source": [
    "obj.avg_age()"
   ]
  },
  {
   "cell_type": "code",
   "execution_count": 15,
   "metadata": {},
   "outputs": [
    {
     "name": "stdin",
     "output_type": "stream",
     "text": [
      "Enter a rollno: 1\n"
     ]
    },
    {
     "name": "stdout",
     "output_type": "stream",
     "text": [
      "The information for the given Rollno. is - Name: Rachit , Age: 19 \n"
     ]
    }
   ],
   "source": [
    "obj.get()"
   ]
  },
  {
   "cell_type": "code",
   "execution_count": 22,
   "metadata": {},
   "outputs": [],
   "source": [
    "# Q10. Implement a class called Animal with some data attributes and method . \n",
    "#      Make a class of dog and a class of cat which inherits from the class animal."
   ]
  },
  {
   "cell_type": "code",
   "execution_count": 31,
   "metadata": {},
   "outputs": [],
   "source": [
    "class Animal : \n",
    "    def __init__(self , kind , place):\n",
    "        self.k = kind\n",
    "        self.p = place\n",
    "        \n",
    "class Dog(Animal) :\n",
    "    def __init__(self , name , gender , breed ):\n",
    "        Animal.__init__(self , \"Dog\" , \"Ground\")\n",
    "        self.n = name\n",
    "        self.g = gender\n",
    "        self.b = breed\n",
    "    \n",
    "    \n",
    "    def bark(self):\n",
    "        print(\"Dog is barking.\")\n",
    "    \n",
    "    def about_d(self):\n",
    "        print(\"Name {} , Gender {} , Breed {} , LivesOn {}\".format(self.n,self.g,self.b,self.p))\n",
    "    \n",
    "    \n",
    "class Cat(Animal):\n",
    "    def __init__(self , name , gender , breed):\n",
    "        Animal.__init__(self , \"Cat\" , \"Ground\")\n",
    "        self.na = name\n",
    "        self.ge = gender\n",
    "        self.br = breed\n",
    "    \n",
    "    \n",
    "    def meow(self):\n",
    "        print(\"Cat just Meowed.\")\n",
    "    \n",
    "    def about_c(self):\n",
    "        print(\"Name {} , Gender {} , Breed {} , LivesOn {}\".format(self.na,self.ge,self.br,self.p))\n",
    "    "
   ]
  },
  {
   "cell_type": "code",
   "execution_count": null,
   "metadata": {},
   "outputs": [],
   "source": []
  },
  {
   "cell_type": "code",
   "execution_count": 41,
   "metadata": {},
   "outputs": [],
   "source": [
    "Buster = Dog(\"Buster\" , \"Male\" , \"GermanShepard\")"
   ]
  },
  {
   "cell_type": "code",
   "execution_count": 42,
   "metadata": {},
   "outputs": [
    {
     "name": "stdout",
     "output_type": "stream",
     "text": [
      "Dog is barking.\n"
     ]
    }
   ],
   "source": [
    "Buster.bark()"
   ]
  },
  {
   "cell_type": "code",
   "execution_count": 43,
   "metadata": {},
   "outputs": [
    {
     "name": "stdout",
     "output_type": "stream",
     "text": [
      "Name Buster , Gender Male , Breed GermanShepard , LivesOn Ground\n"
     ]
    }
   ],
   "source": [
    "Buster.about_d()"
   ]
  },
  {
   "cell_type": "code",
   "execution_count": 44,
   "metadata": {},
   "outputs": [],
   "source": [
    "Meow = Cat(\"Meow\" , \"Female\" , \"Aegean\")"
   ]
  },
  {
   "cell_type": "code",
   "execution_count": 45,
   "metadata": {},
   "outputs": [
    {
     "name": "stdout",
     "output_type": "stream",
     "text": [
      "Cat just Meowed.\n"
     ]
    }
   ],
   "source": [
    "Meow.meow()"
   ]
  },
  {
   "cell_type": "code",
   "execution_count": 47,
   "metadata": {},
   "outputs": [
    {
     "name": "stdout",
     "output_type": "stream",
     "text": [
      "Name Meow , Gender Female , Breed Aegean , LivesOn Ground\n"
     ]
    }
   ],
   "source": [
    "Meow.about_c()"
   ]
  },
  {
   "cell_type": "code",
   "execution_count": null,
   "metadata": {},
   "outputs": [],
   "source": [
    "# Q11. Write a program that checks if the input is a valid email id or not.Example: A valid email will be of the form  \n",
    "#     (x@y.com) where x and y  are any alpha numeric. \n",
    "\n",
    "# Input : abc@gmail.com ?  True\n",
    "\n",
    "         \n",
    "# 343fsd@hfjdsh.com  ? True\n",
    "        \n",
    "# 284738@hfdhfl.com ? True\n",
    "       \n",
    "# 438749@34729.com  ? True\n",
    "        \n",
    "# jdksj@jksdfj.jfsk  ? False\n",
    "        \n",
    "# kfjdsk@nfjsdn    ? False"
   ]
  },
  {
   "cell_type": "code",
   "execution_count": 20,
   "metadata": {},
   "outputs": [],
   "source": [
    "import re   # to validate the input text\n",
    "regex = '^\\w+([\\.-]?\\w+)*@\\w+([\\.-]?\\w+)*(\\.\\w{2,3})+$'\n",
    "def check(email):  \n",
    "    if(re.search(regex,email)):  \n",
    "        print(\"Valid Email\")  \n",
    "          \n",
    "    else:  \n",
    "        print(\"Invalid Email\") \n",
    " \n",
    "    \n",
    "      "
   ]
  },
  {
   "cell_type": "code",
   "execution_count": 21,
   "metadata": {},
   "outputs": [
    {
     "name": "stdout",
     "output_type": "stream",
     "text": [
      "Valid Email\n"
     ]
    }
   ],
   "source": [
    "check(\"Rachit@Gmail.com\")"
   ]
  },
  {
   "cell_type": "code",
   "execution_count": 22,
   "metadata": {},
   "outputs": [
    {
     "name": "stdout",
     "output_type": "stream",
     "text": [
      "Invalid Email\n"
     ]
    }
   ],
   "source": [
    "check(\"@1234Rachit.com\")"
   ]
  },
  {
   "cell_type": "code",
   "execution_count": null,
   "metadata": {},
   "outputs": [],
   "source": [
    "# x = {'a','b','c','d','e','f','g','h','i','j','k','l','m','n','o','p','q','r','s','t','u','v','w','x','y','z',\"1\",\"2\",\"3\",\"4\",\"5\",\"6\",\"7\",\"8\",\"9\",\"0\"}\n",
    "# y = {'a','b','c','d','e','f','g','h','i','j','k','l','m','n','o','p','q','r','s','t','u','v','w','x','y','z',\"1\",\"2\",\"3\",\"4\",\"5\",\"6\",\"7\",\"8\",\"9\",\"0\"}\n",
    "# sample_em = x + \"@\" + y + \".\" + \"com\"\n",
    "# email = input(\"Enter your email:\")\n",
    "# if email == sample_em and len(x)>0 and len(y)> 0 :\n",
    "#     print(\"Email is true\")\n",
    "# else :\n",
    "#     print(\"Wrong Email\")\n",
    "\n"
   ]
  }
 ],
 "metadata": {
  "kernelspec": {
   "display_name": "Python 3",
   "language": "python",
   "name": "python3"
  },
  "language_info": {
   "codemirror_mode": {
    "name": "ipython",
    "version": 3
   },
   "file_extension": ".py",
   "mimetype": "text/x-python",
   "name": "python",
   "nbconvert_exporter": "python",
   "pygments_lexer": "ipython3",
   "version": "3.7.4"
  }
 },
 "nbformat": 4,
 "nbformat_minor": 4
}
