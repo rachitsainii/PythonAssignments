{
 "cells": [
  {
   "cell_type": "code",
   "execution_count": 1,
   "metadata": {},
   "outputs": [],
   "source": [
    "# Q1.  From this given string: s = \"Hey i am from coding blocks\". Find out: length of string,\n",
    "# convert this to list using split operation.\n"
   ]
  },
  {
   "cell_type": "code",
   "execution_count": 2,
   "metadata": {},
   "outputs": [
    {
     "data": {
      "text/plain": [
       "27"
      ]
     },
     "execution_count": 2,
     "metadata": {},
     "output_type": "execute_result"
    }
   ],
   "source": [
    "s = \"Hey i am from coding blocks\"\n",
    "len(s)"
   ]
  },
  {
   "cell_type": "code",
   "execution_count": 3,
   "metadata": {},
   "outputs": [
    {
     "data": {
      "text/plain": [
       "['Hey', 'i', 'am', 'from', 'coding', 'blocks']"
      ]
     },
     "execution_count": 3,
     "metadata": {},
     "output_type": "execute_result"
    }
   ],
   "source": [
    "s.split()"
   ]
  },
  {
   "cell_type": "code",
   "execution_count": 5,
   "metadata": {},
   "outputs": [],
   "source": [
    "# Q2.  Given string s = \"name is rahul\". Write code to give following o/p.\n",
    "# - \"Name is rahul\"\n",
    "# -  \"Rame Is Rahul\"\n",
    "# -  \"NAME IS RAHUL\""
   ]
  },
  {
   "cell_type": "code",
   "execution_count": 6,
   "metadata": {},
   "outputs": [
    {
     "data": {
      "text/plain": [
       "'Name is rahul'"
      ]
     },
     "execution_count": 6,
     "metadata": {},
     "output_type": "execute_result"
    }
   ],
   "source": [
    "s = \"name is rahul\"\n",
    "s.capitalize()"
   ]
  },
  {
   "cell_type": "code",
   "execution_count": 8,
   "metadata": {},
   "outputs": [
    {
     "data": {
      "text/plain": [
       "'Rame is rahul'"
      ]
     },
     "execution_count": 8,
     "metadata": {},
     "output_type": "execute_result"
    }
   ],
   "source": [
    "s.replace(\"n\",\"R\")"
   ]
  },
  {
   "cell_type": "code",
   "execution_count": 9,
   "metadata": {},
   "outputs": [
    {
     "data": {
      "text/plain": [
       "'NAME IS RAHUL'"
      ]
     },
     "execution_count": 9,
     "metadata": {},
     "output_type": "execute_result"
    }
   ],
   "source": [
    "s.upper()"
   ]
  },
  {
   "cell_type": "code",
   "execution_count": 10,
   "metadata": {},
   "outputs": [],
   "source": [
    "# Q3. Using length and breadth as input find out area and perimeter of a given rectangle."
   ]
  },
  {
   "cell_type": "code",
   "execution_count": 13,
   "metadata": {},
   "outputs": [
    {
     "name": "stdin",
     "output_type": "stream",
     "text": [
      "Enter the length: 30\n",
      "Enter the breadth: 30\n"
     ]
    },
    {
     "name": "stdout",
     "output_type": "stream",
     "text": [
      "Area is:\n",
      "900\n",
      "Perimeter is:\n",
      "30\n"
     ]
    }
   ],
   "source": [
    "length = int(input(\"Enter the length:\"))\n",
    "breadth = int(input(\"Enter the breadth:\"))\n",
    "area = length  * breadth\n",
    "perimeter = 2 * (length + breadth)\n",
    "print(\"Area is:\",area,\"Perimeter is:\",breadth,sep=\"\\n\")"
   ]
  },
  {
   "cell_type": "code",
   "execution_count": 14,
   "metadata": {},
   "outputs": [],
   "source": [
    "# Q4. Using diameter as input find out circumference and area of a circle."
   ]
  },
  {
   "cell_type": "code",
   "execution_count": 15,
   "metadata": {},
   "outputs": [
    {
     "name": "stdin",
     "output_type": "stream",
     "text": [
      "Enter the diameter of the circle: 30\n"
     ]
    },
    {
     "name": "stdout",
     "output_type": "stream",
     "text": [
      "Circumference is:\n",
      "94.2\n",
      "Area is:\n",
      "706.5\n"
     ]
    }
   ],
   "source": [
    "dia = int(input(\"Enter the diameter of the circle:\"))\n",
    "radius = dia/2\n",
    "cir = 2 * 3.14 * radius\n",
    "area = 3.14 * (radius)**2\n",
    "print(\"Circumference is:\", cir , \"Area is:\",area,sep=\"\\n\")"
   ]
  },
  {
   "cell_type": "code",
   "execution_count": 16,
   "metadata": {},
   "outputs": [],
   "source": [
    "# Q5. Write a program to compute roots of a quadratic equation when coefficients a, b and c are known(entered by user)."
   ]
  },
  {
   "cell_type": "code",
   "execution_count": 5,
   "metadata": {},
   "outputs": [
    {
     "name": "stdin",
     "output_type": "stream",
     "text": [
      "Enter the values of a for quadratic eq: 1\n",
      "Enter the values of b for quadratic eq: 5\n",
      "Enter the values of c for quadratic eq: 6\n"
     ]
    },
    {
     "name": "stdout",
     "output_type": "stream",
     "text": [
      "(-2+0j) (-3+0j)\n"
     ]
    }
   ],
   "source": [
    "a = int(input(\"Enter the values of a for quadratic eq:\"))\n",
    "b= int(input(\"Enter the values of b for quadratic eq:\"))\n",
    "c= int(input(\"Enter the values of c for quadratic eq:\"))    \n",
    "D = (b*b) - (4*a*c)\n",
    "import cmath \n",
    "sq = cmath.sqrt(D)\n",
    "root1 = (sq - b)/2*a\n",
    "root2 = (-1)*(sq + b)/2*a\n",
    "print(root1,root2)"
   ]
  },
  {
   "cell_type": "code",
   "execution_count": null,
   "metadata": {},
   "outputs": [],
   "source": [
    "# Q6. Find volume of a sphere using radius as input."
   ]
  },
  {
   "cell_type": "code",
   "execution_count": 4,
   "metadata": {},
   "outputs": [
    {
     "name": "stdin",
     "output_type": "stream",
     "text": [
      "Enter radius of the sphere: 34\n"
     ]
    },
    {
     "name": "stdout",
     "output_type": "stream",
     "text": [
      "Volume of sphere is: 4839.786666666667\n"
     ]
    }
   ],
   "source": [
    "radius = int(input(\"Enter radius of the sphere:\"))\n",
    "volume = 4/3*(3.14*radius*radius)\n",
    "print(\"Volume of sphere is:\", volume)"
   ]
  },
  {
   "cell_type": "code",
   "execution_count": 5,
   "metadata": {},
   "outputs": [],
   "source": [
    "# Q7. Count the  number of digits in a number. Example: 3454 has 4 digits."
   ]
  },
  {
   "cell_type": "code",
   "execution_count": 12,
   "metadata": {},
   "outputs": [
    {
     "name": "stdin",
     "output_type": "stream",
     "text": [
      "Enter a number: 12345678\n"
     ]
    },
    {
     "name": "stdout",
     "output_type": "stream",
     "text": [
      "No. of digits are:\n"
     ]
    },
    {
     "data": {
      "text/plain": [
       "8"
      ]
     },
     "execution_count": 12,
     "metadata": {},
     "output_type": "execute_result"
    }
   ],
   "source": [
    "number = int(input(\"Enter a number:\"))\n",
    "string = str(number)\n",
    "print(\"No. of digits are:\")\n",
    "len(string)"
   ]
  },
  {
   "cell_type": "code",
   "execution_count": 13,
   "metadata": {},
   "outputs": [],
   "source": [
    "# Q8. Write a program that accepts a string and gives output string with all capital letters."
   ]
  },
  {
   "cell_type": "code",
   "execution_count": 14,
   "metadata": {},
   "outputs": [
    {
     "name": "stdin",
     "output_type": "stream",
     "text": [
      "Enter a string: hello I am rachit\n"
     ]
    },
    {
     "name": "stdout",
     "output_type": "stream",
     "text": [
      "HELLO I AM RACHIT\n"
     ]
    }
   ],
   "source": [
    "string = str(input(\"Enter a string:\"))\n",
    "print(string.upper())"
   ]
  },
  {
   "cell_type": "code",
   "execution_count": 19,
   "metadata": {},
   "outputs": [],
   "source": [
    "# Q9. Write a program to that accepts a string s, an index number n and a character ‘c’. And outputs the string replaced \n",
    "# with the character at the index number n. Example- ‘hello’ , 0 , ‘j’ ==> ‘jello’.\n",
    "# (Hint2: You can try it by join function too by typecasting it to list)"
   ]
  },
  {
   "cell_type": "code",
   "execution_count": 34,
   "metadata": {},
   "outputs": [
    {
     "name": "stdin",
     "output_type": "stream",
     "text": [
      "Enter any string: hello\n",
      "Enter a number: 0\n",
      "Enter a single character: j\n"
     ]
    },
    {
     "name": "stdout",
     "output_type": "stream",
     "text": [
      "New String is: jello\n"
     ]
    }
   ],
   "source": [
    "s = str(input(\"Enter any string:\"))\n",
    "n =  int(input(\"Enter a number:\"))\n",
    "c = input(\"Enter a single character:\")\n",
    "s1 = s.replace(s[n] , c)\n",
    "print(\"New String is:\",s1)\n"
   ]
  },
  {
   "cell_type": "code",
   "execution_count": 16,
   "metadata": {},
   "outputs": [],
   "source": [
    "# Q10. Reverse a string. Example: 'Hey there' = 'ereht yeH' \n"
   ]
  },
  {
   "cell_type": "code",
   "execution_count": 1,
   "metadata": {},
   "outputs": [
    {
     "name": "stdin",
     "output_type": "stream",
     "text": [
      "Enter a string: my name is rachit\n"
     ]
    },
    {
     "name": "stdout",
     "output_type": "stream",
     "text": [
      "tihcar si eman ym\n"
     ]
    }
   ],
   "source": [
    "s = str(input(\"Enter a string:\"))\n",
    "list = \"\".join(s)\n",
    "rev = list[::-1]\n",
    "print(rev)"
   ]
  },
  {
   "cell_type": "code",
   "execution_count": null,
   "metadata": {},
   "outputs": [],
   "source": []
  }
 ],
 "metadata": {
  "kernelspec": {
   "display_name": "Python 3",
   "language": "python",
   "name": "python3"
  },
  "language_info": {
   "codemirror_mode": {
    "name": "ipython",
    "version": 3
   },
   "file_extension": ".py",
   "mimetype": "text/x-python",
   "name": "python",
   "nbconvert_exporter": "python",
   "pygments_lexer": "ipython3",
   "version": "3.7.4"
  }
 },
 "nbformat": 4,
 "nbformat_minor": 4
}
