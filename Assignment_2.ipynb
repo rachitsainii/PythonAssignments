{
 "cells": [
  {
   "cell_type": "code",
   "execution_count": null,
   "metadata": {},
   "outputs": [],
   "source": [
    "# Q1. Write a program to print all the natural numbers from 1 to n (user input). Then print the same in reverse order.\n"
   ]
  },
  {
   "cell_type": "code",
   "execution_count": 3,
   "metadata": {},
   "outputs": [
    {
     "name": "stdin",
     "output_type": "stream",
     "text": [
      "Enter a number:  5\n"
     ]
    },
    {
     "name": "stdout",
     "output_type": "stream",
     "text": [
      "1\n",
      "2\n",
      "3\n",
      "4\n",
      "5\n",
      "The numbers in reverse are:\n",
      "5\n",
      "4\n",
      "3\n",
      "2\n",
      "1\n"
     ]
    }
   ],
   "source": [
    "n = int(input(\"Enter a number: \"))\n",
    "for i in range(1,n+1) :\n",
    "    print(i)\n",
    "print(\"The numbers in reverse are:\")\n",
    "while n > 0 :\n",
    "    print(n)\n",
    "    n-=1"
   ]
  },
  {
   "cell_type": "code",
   "execution_count": 4,
   "metadata": {},
   "outputs": [],
   "source": [
    "# Q2. Print all odd numbers and even numbers between 1 to 100."
   ]
  },
  {
   "cell_type": "code",
   "execution_count": 6,
   "metadata": {},
   "outputs": [
    {
     "name": "stdout",
     "output_type": "stream",
     "text": [
      "Odd numbers between 1 to 100 are :\n",
      "1\n",
      "3\n",
      "5\n",
      "7\n",
      "9\n",
      "11\n",
      "13\n",
      "15\n",
      "17\n",
      "19\n",
      "21\n",
      "23\n",
      "25\n",
      "27\n",
      "29\n",
      "31\n",
      "33\n",
      "35\n",
      "37\n",
      "39\n",
      "41\n",
      "43\n",
      "45\n",
      "47\n",
      "49\n",
      "51\n",
      "53\n",
      "55\n",
      "57\n",
      "59\n",
      "61\n",
      "63\n",
      "65\n",
      "67\n",
      "69\n",
      "71\n",
      "73\n",
      "75\n",
      "77\n",
      "79\n",
      "81\n",
      "83\n",
      "85\n",
      "87\n",
      "89\n",
      "91\n",
      "93\n",
      "95\n",
      "97\n",
      "99\n"
     ]
    }
   ],
   "source": [
    "print(\"Odd numbers between 1 to 100 are :\")\n",
    "for i in range(1 , 100) :\n",
    "    if i % 2 == 1 :\n",
    "        print(i)\n",
    "    else :\n",
    "        continue"
   ]
  },
  {
   "cell_type": "code",
   "execution_count": 7,
   "metadata": {},
   "outputs": [],
   "source": [
    "# Q3. Write a program to check if a number is prime or not. Example: 7 ==> True, 6 ==> False"
   ]
  },
  {
   "cell_type": "code",
   "execution_count": 7,
   "metadata": {},
   "outputs": [
    {
     "name": "stdin",
     "output_type": "stream",
     "text": [
      "Enter any number : 100000\n"
     ]
    },
    {
     "name": "stdout",
     "output_type": "stream",
     "text": [
      "Not Prime\n"
     ]
    }
   ],
   "source": [
    "import math\n",
    "num = int(input(\"Enter any number :\"))\n",
    "f = 2 \n",
    "sq_rt = math.sqrt(num)\n",
    "while f < sq_rt :\n",
    "    if num % f == 0:\n",
    "        print(\"Not Prime\")\n",
    "        f+=1\n",
    "        break\n",
    "    else :\n",
    "        print(\"Prime\")\n",
    "        break \n"
   ]
  },
  {
   "cell_type": "code",
   "execution_count": null,
   "metadata": {},
   "outputs": [],
   "source": [
    "# 4. Write a program that asks the user for a number n and prints the sum of the numbers 1\n",
    "# to n such that only multiples of three or \n",
    "# five are considered in the sum, e.g. 3, 5, 6, 9, 10, 12, 15 for n=17."
   ]
  },
  {
   "cell_type": "code",
   "execution_count": 6,
   "metadata": {},
   "outputs": [
    {
     "name": "stdin",
     "output_type": "stream",
     "text": [
      "Enter a number : 17\n"
     ]
    },
    {
     "name": "stdout",
     "output_type": "stream",
     "text": [
      "Sum of numbers which are multiples of 3 and 5 is: 60\n"
     ]
    }
   ],
   "source": [
    "num = int(input(\"Enter a number :\"))\n",
    "sum = 0\n",
    "while num >= 1 :\n",
    "    if num % 3 == 0 or num % 5 == 0:\n",
    "        sum += num\n",
    "    num -=1\n",
    "print(\"Sum of numbers which are multiples of 3 and 5 is:\",sum)\n"
   ]
  },
  {
   "cell_type": "code",
   "execution_count": null,
   "metadata": {},
   "outputs": [],
   "source": [
    "#Q5. Write a program that asks the user for a number n and gives them the possibility to choose between \n",
    "#.   computing the sum and computing the product of 1,…,n."
   ]
  },
  {
   "cell_type": "code",
   "execution_count": 16,
   "metadata": {},
   "outputs": [
    {
     "name": "stdin",
     "output_type": "stream",
     "text": [
      "Enter a number: 10\n"
     ]
    },
    {
     "name": "stdout",
     "output_type": "stream",
     "text": [
      "What do want to do ? \n",
      " 1. Sum \n",
      " 2. Product\n"
     ]
    },
    {
     "name": "stdin",
     "output_type": "stream",
     "text": [
      "Enter choice: 2\n"
     ]
    },
    {
     "name": "stdout",
     "output_type": "stream",
     "text": [
      "The product of numbers is: 3628800\n"
     ]
    }
   ],
   "source": [
    "num = int(input(\"Enter a number:\"))\n",
    "print(\"What do want to do ? \\n 1. Sum \\n 2. Product\")\n",
    "choice = int(input(\"Enter choice:\"))\n",
    "sum = 0\n",
    "product = 1\n",
    "if choice == 1:\n",
    "    for i in range(1,num+1):\n",
    "        sum = sum+i\n",
    "    print(\"The sum of numbers is :\" , sum)\n",
    "elif choice == 2:\n",
    "    for j in range(1 , num+1):\n",
    "        product = product * j\n",
    "    print(\"The product of numbers is:\",product)\n",
    "else :\n",
    "    print(\"Wrong Entry\")"
   ]
  },
  {
   "cell_type": "code",
   "execution_count": 17,
   "metadata": {},
   "outputs": [],
   "source": [
    "# Q6. Find the sum of all the multiples of 3 or 5 below 1000."
   ]
  },
  {
   "cell_type": "code",
   "execution_count": 14,
   "metadata": {},
   "outputs": [
    {
     "name": "stdout",
     "output_type": "stream",
     "text": [
      "233168\n"
     ]
    }
   ],
   "source": [
    "num = 990\n",
    "sum1 = 0\n",
    "sum2 = 0\n",
    "sum3 =0\n",
    "sum = 3983\n",
    "for i in range(1,991):\n",
    "    if i%3 == 0:\n",
    "        sum1 = sum1 + i\n",
    "    if i%5 == 0:\n",
    "        sum2 =sum2 + i\n",
    "    if i%15 == 0:\n",
    "        sum3 =sum3 +i\n",
    "sum = sum + sum1 +sum2 -sum3\n",
    "print(sum)\n",
    "\n",
    "\n",
    "        \n",
    "        \n",
    "\n",
    "    "
   ]
  },
  {
   "cell_type": "code",
   "execution_count": 25,
   "metadata": {},
   "outputs": [],
   "source": [
    "# Q7. Write a program which will find all such numbers which are divisible by 7 but are not a multiple of 5,\n",
    "# between 2000 and 3200 (both included)."
   ]
  },
  {
   "cell_type": "code",
   "execution_count": 15,
   "metadata": {},
   "outputs": [
    {
     "name": "stdout",
     "output_type": "stream",
     "text": [
      "2002 2009 2016 2023 2037 2044 2051 2058 2072 2079 2086 2093 2107 2114 2121 2128 2142 2149 2156 2163 2177 2184 2191 2198 2212 2219 2226 2233 2247 2254 2261 2268 2282 2289 2296 2303 2317 2324 2331 2338 2352 2359 2366 2373 2387 2394 2401 2408 2422 2429 2436 2443 2457 2464 2471 2478 2492 2499 2506 2513 2527 2534 2541 2548 2562 2569 2576 2583 2597 2604 2611 2618 2632 2639 2646 2653 2667 2674 2681 2688 2702 2709 2716 2723 2737 2744 2751 2758 2772 2779 2786 2793 2807 2814 2821 2828 2842 2849 2856 2863 2877 2884 2891 2898 2912 2919 2926 2933 2947 2954 2961 2968 2982 2989 2996 3003 3017 3024 3031 3038 3052 3059 3066 3073 3087 3094 3101 3108 3122 3129 3136 3143 3157 3164 3171 3178 3192 3199 "
     ]
    }
   ],
   "source": [
    "for i in range(2000 , 3201) :\n",
    "    if i % 7 == 0 and i % 5 != 0:\n",
    "        print(i , end =' ')\n",
    "        "
   ]
  },
  {
   "cell_type": "code",
   "execution_count": 29,
   "metadata": {},
   "outputs": [],
   "source": [
    "# Q8. Find the difference between the sum of the squares of the first one hundred natural numbers and the square \n",
    "      # of the sum."
   ]
  },
  {
   "cell_type": "code",
   "execution_count": 33,
   "metadata": {},
   "outputs": [
    {
     "name": "stdout",
     "output_type": "stream",
     "text": [
      "Sum of numbers :  5050\n",
      "Sum of squares: 338350\n",
      "Difference between sum of squares and square of sum is: 333300\n"
     ]
    }
   ],
   "source": [
    "num = 100\n",
    "sum = 0\n",
    "sum_sq = 0\n",
    "for i in range(1,num+1) :\n",
    "    sum = sum + i\n",
    "print(\"Sum of numbers : \",sum)\n",
    "sq_sum = sum ** 2\n",
    "\n",
    "for j in range(1,num+1) :\n",
    "    sum_sq = sum_sq + (j**2)\n",
    "print(\"Sum of squares:\",sum_sq)\n",
    "\n",
    "difference = sum_sq - sum\n",
    "print(\"Difference between sum of squares and square of sum is:\",difference)\n",
    "    "
   ]
  },
  {
   "cell_type": "code",
   "execution_count": 34,
   "metadata": {},
   "outputs": [],
   "source": [
    "# Q9. Write a program which can compute the factorial of a given number."
   ]
  },
  {
   "cell_type": "code",
   "execution_count": 36,
   "metadata": {},
   "outputs": [
    {
     "name": "stdin",
     "output_type": "stream",
     "text": [
      "Enter any number: 5\n"
     ]
    },
    {
     "name": "stdout",
     "output_type": "stream",
     "text": [
      "Factorial of given number is: 120\n"
     ]
    }
   ],
   "source": [
    "num = int(input(\"Enter any number:\"))\n",
    "fac = 1\n",
    "while num >= 1 :\n",
    "    fac = fac * num\n",
    "    num -=1\n",
    "print(\"Factorial of given number is:\" , fac)"
   ]
  },
  {
   "cell_type": "code",
   "execution_count": 37,
   "metadata": {},
   "outputs": [],
   "source": [
    "# Q10. Pattern:\n",
    "#     - >\n",
    "\n",
    "# 1\n",
    "\n",
    "# 2 2\n",
    "\n",
    "# 3 3 3\n",
    "\n",
    "# 4 4 4 4\n",
    "\n",
    "# 5 5 5 5 5\n",
    "\n",
    "# ->\n",
    "# 5 5 5 5 5 \n",
    "# 5 4 4 4 5 \n",
    "# 5 4 3 4 5 \n",
    "# 5 4 4 4 5 \n",
    "# 5 5 5 5 5\n",
    "\n",
    "# ->\n",
    "# * \n",
    "# * * \n",
    "# * * * \n",
    "# * * * * \n",
    "# * * * * * \n",
    "\n",
    "# ->\n",
    "# ****\n",
    "# ***\n",
    "# **\n",
    "# *\n",
    "\n",
    "# ->\n",
    "# #####\n",
    "# #####\n",
    "# #####\n",
    "# #####\n",
    "# #####\n"
   ]
  },
  {
   "cell_type": "code",
   "execution_count": 44,
   "metadata": {},
   "outputs": [
    {
     "name": "stdout",
     "output_type": "stream",
     "text": [
      " 1\n",
      "\n",
      "\n",
      " 2 2\n",
      "\n",
      "\n",
      " 3 3 3\n",
      "\n",
      "\n",
      " 4 4 4 4\n",
      "\n",
      "\n",
      " 5 5 5 5 5\n",
      "\n",
      "\n"
     ]
    }
   ],
   "source": [
    "num = 5 \n",
    "for i in range(1 , num+1) :\n",
    "    print(\" {}\".format(i) * i)\n",
    "    print(\"\\n\")"
   ]
  },
  {
   "cell_type": "code",
   "execution_count": 6,
   "metadata": {},
   "outputs": [
    {
     "name": "stdout",
     "output_type": "stream",
     "text": [
      " # # # # #\n",
      " # # # # #\n",
      " # # # # #\n",
      " # # # # #\n",
      " # # # # #\n"
     ]
    }
   ],
   "source": [
    "num = 5\n",
    "i = 1\n",
    "while i <= num :\n",
    "    print(\" {}\".format(\"#\") * num)\n",
    "    i += 1"
   ]
  },
  {
   "cell_type": "code",
   "execution_count": 8,
   "metadata": {},
   "outputs": [
    {
     "name": "stdout",
     "output_type": "stream",
     "text": [
      "****\n",
      "***\n",
      "**\n",
      "*\n"
     ]
    }
   ],
   "source": [
    "num = 4\n",
    "while num > 0 :\n",
    "    print(\"*\" * num)\n",
    "    num -= 1"
   ]
  },
  {
   "cell_type": "code",
   "execution_count": 10,
   "metadata": {},
   "outputs": [
    {
     "name": "stdout",
     "output_type": "stream",
     "text": [
      " *\n",
      " * *\n",
      " * * *\n",
      " * * * *\n",
      " * * * * *\n"
     ]
    }
   ],
   "source": [
    "num = 5 \n",
    "i = 1\n",
    "while i <= num :\n",
    "    print(\" *\" * i)\n",
    "    i += 1"
   ]
  },
  {
   "cell_type": "code",
   "execution_count": 14,
   "metadata": {},
   "outputs": [],
   "source": [
    "# for i in range(5):\n",
    "#     print(\" {}\".format(5)*5)\n",
    "        "
   ]
  },
  {
   "cell_type": "code",
   "execution_count": 19,
   "metadata": {},
   "outputs": [],
   "source": [
    "# Q11. Write a program that computes the value of a+aa+aaa+aaaa with a given digit as the value of a.\n",
    "#.Suppose the following input is supplied to the program: 9, Then, the output should be: 9 + 99 + 999 + 9999 =  11106."
   ]
  },
  {
   "cell_type": "code",
   "execution_count": 16,
   "metadata": {},
   "outputs": [
    {
     "name": "stdin",
     "output_type": "stream",
     "text": [
      "Enter a digit: 9\n"
     ]
    },
    {
     "name": "stdout",
     "output_type": "stream",
     "text": [
      "11106\n"
     ]
    }
   ],
   "source": [
    "dig = int(input(\"Enter a digit:\"))\n",
    "sum = dig + (10*dig+dig) + (100*dig+10*dig+dig) + (1000*dig+100*dig+10*dig+dig)\n",
    "print(sum)\n",
    "   \n",
    "    "
   ]
  },
  {
   "cell_type": "code",
   "execution_count": 18,
   "metadata": {},
   "outputs": [
    {
     "name": "stdin",
     "output_type": "stream",
     "text": [
      "Enter the no. of terms: 5\n",
      "Enter the digit: 4\n"
     ]
    },
    {
     "name": "stdout",
     "output_type": "stream",
     "text": [
      "49380.0\n"
     ]
    }
   ],
   "source": [
    "# if n terms i.e. a**n\n",
    "terms = int(input(\"Enter the no. of terms:\"))\n",
    "dig = int(input(\"Enter the digit:\"))\n",
    "sum = (dig/81)*((10**(terms+1))-10-(9*terms))\n",
    "print(sum)"
   ]
  },
  {
   "cell_type": "code",
   "execution_count": 1,
   "metadata": {},
   "outputs": [],
   "source": [
    "# Q12. Find the length of a string using loops (not len())."
   ]
  },
  {
   "cell_type": "code",
   "execution_count": 9,
   "metadata": {},
   "outputs": [
    {
     "name": "stdin",
     "output_type": "stream",
     "text": [
      " my name is rachit\n"
     ]
    },
    {
     "name": "stdout",
     "output_type": "stream",
     "text": [
      "17\n"
     ]
    }
   ],
   "source": [
    "string = input()\n",
    "l = list(string)\n",
    "count = 0\n",
    "for i in l :\n",
    "    count += 1\n",
    "print(count)\n"
   ]
  },
  {
   "cell_type": "code",
   "execution_count": 13,
   "metadata": {},
   "outputs": [],
   "source": [
    "# Q13. Write a program that accepts a sentence (string) and calculate the number of letters and digits.\n",
    "#.     Example: ‘this is a test sentence number 389’ ==> letters = 25 and digits = 3."
   ]
  },
  {
   "cell_type": "code",
   "execution_count": 18,
   "metadata": {},
   "outputs": [
    {
     "name": "stdin",
     "output_type": "stream",
     "text": [
      " MY NAE 123\n"
     ]
    },
    {
     "name": "stdout",
     "output_type": "stream",
     "text": [
      "Letters = 5\n",
      "Digits = 3\n"
     ]
    }
   ],
   "source": [
    "string = input()\n",
    "s1 = string.lower()\n",
    "set1 = {'a','b','c','d','e','f','g','h','i','j','k','l','m','n','o','p','q','r','s','t','u','v','w','x','y','z'}\n",
    "set2 = {\"1\",\"2\",\"3\",\"4\",\"5\",\"6\",\"7\",\"8\",\"9\",\"0\"}\n",
    "count_letter = 0\n",
    "count_digit = 0\n",
    "for i in s1 :\n",
    "    if i in set1:\n",
    "        count_letter += 1\n",
    "    if i in set2 :\n",
    "        count_digit +=1\n",
    "print(\"Letters =\",count_letter)\n",
    "print(\"Digits =\",count_digit)\n",
    "    \n",
    "    \n",
    "    "
   ]
  },
  {
   "cell_type": "code",
   "execution_count": 19,
   "metadata": {},
   "outputs": [],
   "source": [
    "# Q14.  Write a program that accepts a string and outputs the string with all capital letters.\n",
    "\n",
    "      # Example: ‘hello’ ==> ‘HELLO’. (using loop)"
   ]
  },
  {
   "cell_type": "code",
   "execution_count": 26,
   "metadata": {},
   "outputs": [
    {
     "name": "stdin",
     "output_type": "stream",
     "text": [
      " g\n"
     ]
    },
    {
     "name": "stdout",
     "output_type": "stream",
     "text": [
      "{'i', 'b', 'K', 'g', 'L', 'r', 'f', 'u', 'w', 'a', 'M', 'J', 'p', 'E', 'd', 'A', 'N', 'T', 'B', 'z', 'c', 'o', 'x', 't', 'Q', 'O', 'G', 'Y', 'X', 'W', 's', 'S', 'C', 'k', 'H', 'm', 'P', 'n', 'j', 'R', 'V', 'y', 'l', 'D', 'F', 'h', 'Z', 'e', 'v', 'I', 'q', 'U'}\n"
     ]
    }
   ],
   "source": [
    "# string = input()\n",
    "# set1 = {'a','b','c','d','e','f','g','h','i','j','k','l','m','n','o','p','q','r','s','t','u','v','w','x','y','z'}\n",
    "# set2 = {'A','B','C','D','E','F','G','H','I','J','K','L','M','N','O','P','Q','R','S','T','U','V','W','X','Y','Z'}\n",
    "# set = set1.union(set2)\n",
    "# for i in string :\n",
    "#     if i in set1:\n",
    "#         string=\n",
    "\n",
    "      \n",
    "\n",
    "        \n",
    "    "
   ]
  },
  {
   "cell_type": "code",
   "execution_count": 4,
   "metadata": {},
   "outputs": [],
   "source": [
    "# Q15. Write a program that accepts a sentence and calculate the number of upper case letters and lower case letters."
   ]
  },
  {
   "cell_type": "code",
   "execution_count": 5,
   "metadata": {},
   "outputs": [
    {
     "name": "stdin",
     "output_type": "stream",
     "text": [
      " My Name Is RACHIT\n"
     ]
    },
    {
     "name": "stdout",
     "output_type": "stream",
     "text": [
      "No. of Uppercase letters: 9\n",
      "No. of Lowercase letters: 5\n"
     ]
    }
   ],
   "source": [
    "set1 = {'a','b','c','d','e','f','g','h','i','j','k','l','m','n','o','p','q','r','s','t','u','v','w','x','y','z'}\n",
    "set2 = {'A','B','C','D','E','F','G','H','I','J','K','L','M','N','O','P','Q','R','S','T','U','V','W','X','Y','Z'}\n",
    "count_up = 0\n",
    "count_low = 0\n",
    "string = input()\n",
    "for i in string :\n",
    "    if i in set1 :\n",
    "        count_low += 1\n",
    "    if i in set2:\n",
    "        count_up += 1\n",
    "print(\"No. of Uppercase letters:\",count_up)\n",
    "print(\"No. of Lowercase letters:\",count_low)\n",
    "\n"
   ]
  },
  {
   "cell_type": "code",
   "execution_count": 6,
   "metadata": {},
   "outputs": [],
   "source": [
    "# Q16. Write  a program that counts the occurrence of a character in a string.\n",
    "# Example: ‘This is a test string.’ count of i = 3.#"
   ]
  },
  {
   "cell_type": "code",
   "execution_count": 9,
   "metadata": {},
   "outputs": [
    {
     "name": "stdin",
     "output_type": "stream",
     "text": [
      "Enter a character: i\n",
      "enter a string: This is a test string\n"
     ]
    },
    {
     "name": "stdout",
     "output_type": "stream",
     "text": [
      "Count of i = 3\n"
     ]
    }
   ],
   "source": [
    "char = input(\"Enter a character:\")\n",
    "string = input(\"enter a string:\")\n",
    "count = 0\n",
    "for i in string :\n",
    "    if i == char:\n",
    "        count +=1\n",
    "print(\"Count of\",char,\"=\",count)"
   ]
  },
  {
   "cell_type": "code",
   "execution_count": 11,
   "metadata": {},
   "outputs": [],
   "source": [
    "# 17. Write a program to find if a given string is a pallindrome or not.\n"
   ]
  },
  {
   "cell_type": "code",
   "execution_count": 14,
   "metadata": {},
   "outputs": [
    {
     "name": "stdin",
     "output_type": "stream",
     "text": [
      "Enter a string: naman\n"
     ]
    },
    {
     "name": "stdout",
     "output_type": "stream",
     "text": [
      "Palindrome\n"
     ]
    }
   ],
   "source": [
    "s = str(input(\"Enter a string:\"))\n",
    "list = \"\".join(s)\n",
    "rev = list[::-1]\n",
    "if s == rev :\n",
    "    print(\"Palindrome\")\n",
    "else :\n",
    "    print(\"Not a Palindrome\")"
   ]
  },
  {
   "cell_type": "code",
   "execution_count": 15,
   "metadata": {},
   "outputs": [],
   "source": [
    "# Q18. Output the integer number indicating the total number of occurrences of the substring in the original string."
   ]
  },
  {
   "cell_type": "code",
   "execution_count": 35,
   "metadata": {},
   "outputs": [
    {
     "name": "stdin",
     "output_type": "stream",
     "text": [
      "Enter a substring: hi\n",
      "Enter a string: hi\n"
     ]
    },
    {
     "name": "stdout",
     "output_type": "stream",
     "text": [
      "No of substrings in string: 0\n"
     ]
    }
   ],
   "source": [
    "# substring = input(\"Enter a substring:\")\n",
    "# string = input(\"Enter a string:\")\n",
    "# l1=len(substring)\n",
    "# l2=len(string)\n",
    "# count = 0\n",
    "# for i in range(0,l1,l2):\n",
    "#     if i == substring:\n",
    "#         count += 1\n",
    "#         print(i)\n",
    "# print(\"No of substrings in string:\",count)\n",
    "        "
   ]
  },
  {
   "cell_type": "code",
   "execution_count": 23,
   "metadata": {},
   "outputs": [],
   "source": [
    "# Q19. Swap cases in a string using loops. Ex: Original string: There are 206 bones, Updated string: tHEREAREBONES."
   ]
  },
  {
   "cell_type": "code",
   "execution_count": 34,
   "metadata": {},
   "outputs": [
    {
     "name": "stdin",
     "output_type": "stream",
     "text": [
      " hello\n"
     ]
    },
    {
     "name": "stdout",
     "output_type": "stream",
     "text": [
      "H\n",
      "E\n",
      "L\n",
      "L\n",
      "O\n"
     ]
    }
   ],
   "source": [
    "string = input()\n",
    "set1 = {'a','b','c','d','e','f','g','h','i','j','k','l','m','n','o','p','q','r','s','t','u','v','w','x','y','z'}\n",
    "set2 = {'A','B','C','D','E','F','G','H','I','J','K','L','M','N','O','P','Q','R','S','T','U','V','W','X','Y','Z'}\n",
    "for i in string:\n",
    "    if i in set1:\n",
    "        i = i.upper()\n",
    "        print(i)\n",
    "        continue\n",
    "    if i in set2:\n",
    "        i = i.lower()\n",
    "        print(i)\n",
    "        continue"
   ]
  },
  {
   "cell_type": "code",
   "execution_count": 36,
   "metadata": {},
   "outputs": [],
   "source": [
    "# Q20. Write a program which accepts two strings s1 and s2 and checks if s2 is a substring of s1.\n"
   ]
  },
  {
   "cell_type": "code",
   "execution_count": 41,
   "metadata": {},
   "outputs": [
    {
     "name": "stdin",
     "output_type": "stream",
     "text": [
      " hello\n",
      "Substring to look for z\n"
     ]
    },
    {
     "name": "stdout",
     "output_type": "stream",
     "text": [
      "Not present\n"
     ]
    }
   ],
   "source": [
    "s1 = input()\n",
    "s2 = input(\"Substring to look for\")\n",
    "if s2 in s1:\n",
    "        print(\"Substring is present\")\n",
    "else :\n",
    "        print(\"Not present\")"
   ]
  },
  {
   "cell_type": "code",
   "execution_count": 24,
   "metadata": {},
   "outputs": [],
   "source": [
    "# Q21. \n",
    "# 15. Make a password validator with the following checks. A website requires the users to input username and password to register. Write a program to check the validity of password input by users.\n",
    "#     Following are the criteria for checking the password:\n",
    "\n",
    "#      1. At least \n",
    "# 1 letter between [a-z]\n",
    "     \n",
    "# 2. At least 1 number between [0-9]\n",
    "     \n",
    "# 3. At least 1 letter between [A-Z]"
   ]
  },
  {
   "cell_type": "code",
   "execution_count": 25,
   "metadata": {},
   "outputs": [
    {
     "name": "stdin",
     "output_type": "stream",
     "text": [
      "Make a password having the following:\n",
      "                 1 letter between [a-z]\n",
      "                 2. At least 1 number between [0-9]\n",
      "                 3. At least 1 letter between [A-Z] Dl3\n"
     ]
    },
    {
     "name": "stdout",
     "output_type": "stream",
     "text": [
      "Password Created Successfully !\n"
     ]
    }
   ],
   "source": [
    "password = input(\"\"\"Make a password having the following:\n",
    "                 1 letter between [a-z]\n",
    "                 2. At least 1 number between [0-9]\n",
    "                 3. At least 1 letter between [A-Z]\"\"\")\n",
    "set1 = {'a','b','c','d','e','f','g','h','i','j','k','l','m','n','o','p','q','r','s','t','u','v','w','x','y','z'}\n",
    "set2 = {'A','B','C','D','E','F','G','H','I','J','K','L','M','N','O','P','Q','R','S','T','U','V','W','X','Y','Z'}\n",
    "set3 = {'1','2','3','4','5','6','7','8','9','0'}\n",
    "for i in password :\n",
    "    if i in set1 :\n",
    "        continue\n",
    "    elif i in set2 :\n",
    "        continue\n",
    "    elif i in set3 :\n",
    "        print(\"Password Created Successfully !\")\n",
    "        "
   ]
  },
  {
   "cell_type": "code",
   "execution_count": 17,
   "metadata": {},
   "outputs": [],
   "source": [
    "# # Q22. s = \"Hi dwarka walo\". For this given string write a code such that it prints the vowels \n",
    "# present in the string s if any. ex: \"i\", \"a\" etc.\n",
    "\n"
   ]
  },
  {
   "cell_type": "code",
   "execution_count": 23,
   "metadata": {},
   "outputs": [
    {
     "name": "stdin",
     "output_type": "stream",
     "text": [
      " Hi Dwarka Walo\n"
     ]
    },
    {
     "name": "stdout",
     "output_type": "stream",
     "text": [
      "i\n",
      "a\n",
      "a\n",
      "a\n",
      "o\n",
      "No. of Vowels are: 5\n"
     ]
    }
   ],
   "source": [
    "set = {'a','e','i','o','u'}\n",
    "s = input()\n",
    "s1 = s.lower()\n",
    "count = 0\n",
    "for i in s1:\n",
    "    if i in set:\n",
    "        count += 1\n",
    "        print(i)\n",
    "print(\"No. of Vowels are:\",count)"
   ]
  }
 ],
 "metadata": {
  "kernelspec": {
   "display_name": "Python 3",
   "language": "python",
   "name": "python3"
  },
  "language_info": {
   "codemirror_mode": {
    "name": "ipython",
    "version": 3
   },
   "file_extension": ".py",
   "mimetype": "text/x-python",
   "name": "python",
   "nbconvert_exporter": "python",
   "pygments_lexer": "ipython3",
   "version": "3.7.4"
  }
 },
 "nbformat": 4,
 "nbformat_minor": 4
}
